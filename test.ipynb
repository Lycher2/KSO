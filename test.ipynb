{
  "nbformat": 4,
  "nbformat_minor": 0,
  "metadata": {
    "colab": {
      "provenance": [],
      "mount_file_id": "18QrlSK5WOk-ELrOVGJJA1lmqUgfWZGiH",
      "authorship_tag": "ABX9TyOfc5vN8Y7Jkhao7CQOFo24",
      "include_colab_link": true
    },
    "kernelspec": {
      "name": "python3",
      "display_name": "Python 3"
    },
    "language_info": {
      "name": "python"
    }
  },
  "cells": [
    {
      "cell_type": "markdown",
      "metadata": {
        "id": "view-in-github",
        "colab_type": "text"
      },
      "source": [
        "<a href=\"https://colab.research.google.com/github/Lycher2/KSO/blob/develop/test.ipynb\" target=\"_parent\"><img src=\"https://colab.research.google.com/assets/colab-badge.svg\" alt=\"Open In Colab\"/></a>"
      ]
    },
    {
      "cell_type": "code",
      "execution_count": null,
      "metadata": {
        "id": "NdMzHuLaahSx"
      },
      "outputs": [],
      "source": []
    },
    {
      "cell_type": "markdown",
      "source": [
        "# Загрузка файлов с диска"
      ],
      "metadata": {
        "id": "y_X1ZmAMgcbZ"
      }
    },
    {
      "cell_type": "code",
      "source": [
        "from google.colab import drive\n",
        "drive.mount('/content/drive')"
      ],
      "metadata": {
        "id": "MBTuGPa7hFcj"
      },
      "execution_count": null,
      "outputs": []
    },
    {
      "cell_type": "markdown",
      "source": [
        "# Загрузка данных\n"
      ],
      "metadata": {
        "id": "bc-NgwEisXzD"
      }
    },
    {
      "cell_type": "code",
      "source": [],
      "metadata": {
        "id": "LcpAhiD3snUv"
      },
      "execution_count": null,
      "outputs": []
    },
    {
      "cell_type": "code",
      "source": [],
      "metadata": {
        "id": "Z0mTXJKhsn_E"
      },
      "execution_count": null,
      "outputs": []
    }
  ]
}